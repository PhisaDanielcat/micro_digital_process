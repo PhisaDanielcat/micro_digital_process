{
 "cells": [
  {
   "cell_type": "markdown",
   "id": "3557228a",
   "metadata": {},
   "source": [
    "# 习题一"
   ]
  },
  {
   "cell_type": "markdown",
   "id": "75838920",
   "metadata": {},
   "source": [
    "<center><font face=\"楷书\"，size=8>Author:孟群康</font></center>\n",
    "<center><font face=\"楷书\"，size=8>Student_number:2022202020095</font></center>"
   ]
  },
  {
   "cell_type": "markdown",
   "id": "00234901",
   "metadata": {},
   "source": [
    "## 一、题干"
   ]
  },
  {
   "attachments": {},
   "cell_type": "markdown",
   "id": "408f481a",
   "metadata": {},
   "source": [
    "分别使用Jacobi和Gauss-Seidel迭代法求解方程组，讨论比较其收敛性\n",
    "$$\n",
    "\\left[\n",
    "\\begin{matrix}\n",
    "1 & 2 & -2 \\\\\n",
    "1 & 1 & 1 \\\\\n",
    "2 & 2 & 1 \\\\\n",
    "\n",
    "\\end{matrix}\n",
    "\\right]\n",
    "\\left[\n",
    "\\begin{matrix}\n",
    "x_1 \\\\\n",
    "x_2 \\\\\n",
    "x_3 \\\\\n",
    "\n",
    "\\end{matrix}\n",
    "\\right]\n",
    "=\n",
    "\\left[\n",
    "\\begin{matrix}\n",
    "6 \\\\\n",
    "6 \\\\\n",
    "11\\end{matrix}\n",
    "\\right]\n",
    "$$"
   ]
  },
  {
   "attachments": {},
   "cell_type": "markdown",
   "id": "83362e1d",
   "metadata": {},
   "source": [
    "由于转为PDF之后markdown可能会失效，因此这里再用图片显示一次：![jupyter](./tigan.png)"
   ]
  },
  {
   "cell_type": "markdown",
   "id": "59743a75",
   "metadata": {},
   "source": []
  },
  {
   "attachments": {},
   "cell_type": "markdown",
   "id": "687328a2",
   "metadata": {},
   "source": [
    "## 二、具体解法"
   ]
  },
  {
   "attachments": {},
   "cell_type": "markdown",
   "id": "80505520",
   "metadata": {},
   "source": [
    "### 2.1 直接求解解析解"
   ]
  },
  {
   "attachments": {},
   "cell_type": "markdown",
   "id": "0127d79e",
   "metadata": {},
   "source": [
    "为了比较收敛性，首先直接求出解析解。利用Python sympy库可以直接实现线性方程组的解析求解"
   ]
  },
  {
   "cell_type": "code",
   "execution_count": 36,
   "id": "f49af954",
   "metadata": {},
   "outputs": [
    {
     "data": {
      "image/png": "[encoded data removed]",
      "text/latex": [
       "$\\displaystyle \\left\\{ x_{1} : 2, \\  x_{2} : 3, \\  x_{3} : 1\\right\\}$"
      ],
      "text/plain": [
       "{x₁: 2, x₂: 3, x₃: 1}"
      ]
     },
     "execution_count": 36,
     "metadata": {},
     "output_type": "execute_result"
    }
   ],
   "source": [
    "import sympy as sp\n",
    "sp.init_printing()\n",
    "x_1,x_2,x_3=sp.symbols(\"x_1,x_2,x_3\")\n",
    "\n",
    "system = sp.Matrix(((1,2,-2,6),(1,1,1,6),(2,2,1,11)))\n",
    "sp.solve_linear_system(system,x_1,x_2,x_3)"
   ]
  },
  {
   "attachments": {},
   "cell_type": "markdown",
   "id": "958b38c7",
   "metadata": {},
   "source": [
    "### 2.2 Jacobi迭代求解方程组"
   ]
  },
  {
   "attachments": {},
   "cell_type": "markdown",
   "id": "1cc54f3b",
   "metadata": {},
   "source": [
    "Jacobi迭代法是求解线性方程组的迭代法之一。它的基本思路是将方程组拆分为对角线部分和非对角线部分两个矩阵，然后通过迭代的方式逐步逼近线性方程的解。\n",
    "假设待求解方程组的形式为：\n",
    "\n",
    "$$ \\left\\{\n",
    "\\begin{aligned}\n",
    "a_{11} * x_1 + a_{12} * x_2 + a_{13} * x_3 = b_1\\\\\n",
    "a_{21} * x_1 + a_{22} * x_2 + a_{23} * x_3 = b_2\\\\\n",
    "a_{31} * x_1 + a_{32} * x_2 + a_{33} * x_3 = b_3\n",
    "\\end{aligned}\n",
    "\\right.\n",
    "$$\n",
    "可以表示为向量形式：\n",
    "$$ AX = B $$\n",
    "\n",
    "\n"
   ]
  },
  {
   "attachments": {},
   "cell_type": "markdown",
   "id": "fb3b7caf",
   "metadata": {},
   "source": [
    "首先，我们需要进行矩阵分解，将系数矩阵$A$分解成一个对角线矩阵$D$和一个非对角线矩阵$R$："
   ]
  },
  {
   "attachments": {},
   "cell_type": "markdown",
   "id": "f44d1454",
   "metadata": {},
   "source": [
    "$$D = \\left[\n",
    "\\begin{matrix}\n",
    "a_{11} & 0 & 0\\\\\n",
    "0 & a_{12} & 0 \\\\\n",
    "0 & 0 & a_{13} \\\\\n",
    "\\end{matrix}\n",
    "\\right]$$\n",
    "\n",
    "$$R = \\left[\n",
    "\\begin{matrix}\n",
    "0 & -a_{12} & -a_{13}\\\\\n",
    "-a_{21} & 0 & -a_{23} \\\\\n",
    "-a_{31} & -a_{32} & 0 \\\\\n",
    "\\end{matrix}\n",
    "\\right]$$"
   ]
  },
  {
   "attachments": {},
   "cell_type": "markdown",
   "id": "951cf8e4",
   "metadata": {},
   "source": [
    "接下来将方程转变为迭代形式：$$ X_{k+1} = D^{-1} * (B - RX_{k})$$"
   ]
  },
  {
   "attachments": {},
   "cell_type": "markdown",
   "id": "45f4ae51",
   "metadata": {},
   "source": [
    "其中，$X_{k}$表示第$k$次迭代得到的解向量，$X_{k+1}$表示第$k+1$次迭代得到的解向量，$D^{-1}$表示对角线矩阵$D$的逆矩阵。\n",
    "最后，我们可以通过迭代计算逐步逼近线性方程组的解。迭代停止的条件可以是预设的迭代次数或目标精度。\n",
    "Python实现代码如下："
   ]
  },
  {
   "cell_type": "code",
   "execution_count": 37,
   "id": "8e7966ad",
   "metadata": {},
   "outputs": [],
   "source": [
    "def Jacobi_solving(A,b,max_iter=1000,epsilon=1e-10,is_middle_print=False):\n",
    "    # Initialize the solution x with zeros\n",
    "    x0 = np.zeros_like(b)\n",
    "    x = np.zeros_like(b)\n",
    "\n",
    "    if(is_middle_print):\n",
    "        print(\"****** solving ******\")\n",
    "\n",
    "    # Iterate until the maximum number is reached or error is below tolerance\n",
    "    for i in range(max_iter):\n",
    "        # Iterate over each component of x in order to update them\n",
    "        for j in range(len(x)):\n",
    "            x[j] = (b[j] - np.dot(A[j,:], x0) + A[j,j]*x0[j])/A[j,j]\n",
    "        # Check if the new approximation satisfies the error tolerance\n",
    "        if np.linalg.norm(x - x0) < epsilon:\n",
    "            break\n",
    "        # Update the previous approximation with the new one\n",
    "        x0 = x.copy()\n",
    "        if(is_middle_print):\n",
    "            print(\"*****iter\",i,\"\\tx=\",x,\"\\t\\t\")\n",
    "    if(is_middle_print):\n",
    "        print(\"*****done\")\n",
    "        print(\"*********************\")\n",
    "    return x"
   ]
  },
  {
   "cell_type": "code",
   "execution_count": 38,
   "id": "5f78be64",
   "metadata": {},
   "outputs": [
    {
     "name": "stdout",
     "output_type": "stream",
     "text": [
      "****** solving ******\n",
      "*****iter 0 \tx= [ 6  6 11] \t\t\n",
      "*****iter 1 \tx= [ 16 -11 -13] \t\t\n",
      "*****iter 2 \tx= [2 3 1] \t\t\n",
      "*****done\n",
      "*********************\n",
      "Jacobi Iteration:\n",
      "Solution:  [2 3 1]\n"
     ]
    }
   ],
   "source": [
    "# import numpy library\n",
    "import numpy as np\n",
    "\n",
    "# Define the coefficient matrix and the constant values in a numpy array\n",
    "A = np.array([[1, 2, -2], [1, 1, 1], [2, 2, 1]])\n",
    "b = np.array([6, 6, 11])\n",
    "\n",
    "# Set the maximum number of iterations and the error tolerance\n",
    "max_iter = 1000\n",
    "epsilon = 1e-10\n",
    "\n",
    "# transit parameter matrix A and b into function, and point out max_iter and epsilon\n",
    "# is_middle_print is default Fauls,if middle results are needed to be printed,set it True\n",
    "x = Jacobi_solving(A,b,max_iter=max_iter,epsilon=epsilon,is_middle_print=True)\n",
    "\n",
    "# Print the final solution and the number of iterations\n",
    "print(\"Jacobi Iteration:\")\n",
    "print(\"Solution: \", x)\n"
   ]
  },
  {
   "attachments": {},
   "cell_type": "markdown",
   "id": "7a0413ef",
   "metadata": {},
   "source": [
    "可以看到，经过4轮epoch之后，就已经达到完全收敛"
   ]
  },
  {
   "cell_type": "markdown",
   "id": "1ba1a2da",
   "metadata": {},
   "source": [
    "### 2.3 Gauss-Seidel迭代法求解方程组"
   ]
  },
  {
   "attachments": {},
   "cell_type": "markdown",
   "id": "4c8fd2c3",
   "metadata": {},
   "source": [
    "Gauss-Seidel迭代法是Jacobi迭代的一种改进方法，在算法每次迭代中，计算出一个分量 $x_i$ 后就立即用它来更新其他方程中所有需要该值的系数。\n",
    "Gauss-Seidel迭代法可以表示为以下伪代码：\n",
    "\n",
    "\n",
    "$1.$ 初始化 $x^{(0)}$, 一般初始值都是全零初始化 $x^{(0)}=[0, 0, ..., 0]^{T}$;\n",
    "\n",
    "$2.$ 对于第 $i$ 次迭代 $(i=1,2,3,...)$:\n",
    "\n",
    "&emsp;2.1 对于$j=1,2,...,n$\n",
    "\n",
    "&emsp;&emsp;2.1.1 $x[j] = (b[j] - np.dot(A[j,:], x) + A[j,j]*x[j])/A[j,j]$\n",
    "\n",
    "&emsp;&emsp;2.1.2 令$x^{(k+1)}=x^{(k)}+[x_1^{(k+1)}-x_1^{(k)},x_2^{(k+1)}-x_2^{(k)},...,x_n^{(k+1)}-x_n^{(k)}]^{T}$\n",
    "\n",
    "&emsp;&emsp;2.1.3 判断是否收敛,如果满足$\\left|X^{(k+1)}-X^{(k)}\\right|<\\varepsilon$,退出循环;\n",
    "\n",
    "$3.$ 输出近似解 $x^{(k)}$\n"
   ]
  },
  {
   "attachments": {},
   "cell_type": "markdown",
   "id": "b6fd1089",
   "metadata": {},
   "source": [
    "Python代码实现如下："
   ]
  },
  {
   "cell_type": "code",
   "execution_count": 39,
   "id": "a8bdc3ca",
   "metadata": {},
   "outputs": [],
   "source": [
    "def gauss_seidel_solving(A,b,max_iter=1000,epsilon=1e-10,is_middle_print=False):\n",
    "    x = np.zeros_like(b)\n",
    "    x0 = np.zeros_like(b)\n",
    "    for i in range(max_iter):\n",
    "        # 迭代\n",
    "        for j in range(len(x)):\n",
    "            x[j] = (b[j] - np.dot(A[j,:j], x[:j]) - np.dot(A[j,j+1:], x[j+1:]))/A[j,j]\n",
    "            \n",
    "        # 判断是否收敛\n",
    "        if np.linalg.norm(x - x0) < epsilon:\n",
    "            break\n",
    "    return x"
   ]
  },
  {
   "cell_type": "code",
   "execution_count": 40,
   "id": "8ea266d4",
   "metadata": {},
   "outputs": [
    {
     "name": "stdout",
     "output_type": "stream",
     "text": [
      "Gauss-Seidel Iteration:\n",
      "Solution:  [2 3 1]\n"
     ]
    }
   ],
   "source": [
    "import numpy as np\n",
    "import warnings\n",
    "warnings.filterwarnings(\"ignore\")\n",
    "\n",
    "A = np.array([[1, 2, -2], [1, 1, 1], [2, 2, 1]])\n",
    "b = np.array([6, 6, 11])\n",
    "\n",
    "max_iter = 1000\n",
    "epsilon = 1e-10\n",
    "\n",
    "gauss_seidel_solving(A,b,max_iter=max_iter,epsilon=epsilon,is_middle_print=True)\n",
    "\n",
    "print(\"Gauss-Seidel Iteration:\")\n",
    "print(\"Solution: \", x)\n"
   ]
  },
  {
   "attachments": {},
   "cell_type": "markdown",
   "id": "044f5c4e",
   "metadata": {},
   "source": [
    "## 三、收敛性对比"
   ]
  },
  {
   "attachments": {},
   "cell_type": "markdown",
   "id": "3cd34ce3",
   "metadata": {},
   "source": [
    "通过输出两种方法的中间结果与最终结果的欧氏距离，可以画图对比两种方法的收敛性速度和质量"
   ]
  },
  {
   "attachments": {},
   "cell_type": "markdown",
   "id": "2dc86e35",
   "metadata": {},
   "source": [
    "修改上述两个方法，使得中间结果也能被输出"
   ]
  },
  {
   "cell_type": "code",
   "execution_count": 41,
   "id": "0c8cb5a5",
   "metadata": {},
   "outputs": [],
   "source": [
    "def Jacobi_solving(A,b,max_iter=1000,epsilon=1e-10,is_middle_print=False):\n",
    "    # Initialize the solution x with zeros\n",
    "    x0 = np.zeros_like(b)\n",
    "    x = np.zeros_like(b)\n",
    "    x_jacobi_middle = []\n",
    "\n",
    "    if(is_middle_print):\n",
    "        print(\"****** solving ******\")\n",
    "\n",
    "    # Iterate until the maximum number is reached or error is below tolerance\n",
    "    for i in range(max_iter):\n",
    "        # Iterate over each component of x in order to update them\n",
    "        for j in range(len(x)):\n",
    "            x[j] = (b[j] - np.dot(A[j,:], x0) + A[j,j]*x0[j])/A[j,j]\n",
    "        x_jacobi_middle.append(list(x))\n",
    "        # Check if the new approximation satisfies the error tolerance\n",
    "        if np.linalg.norm(x - x0) < epsilon:\n",
    "            break\n",
    "        # Update the previous approximation with the new one\n",
    "        x0 = x.copy()\n",
    "        \n",
    "        if(is_middle_print):\n",
    "            print(\"*****iter\",i,\"\\tx=\",x,\"\\t\\t\")\n",
    "    if(is_middle_print):\n",
    "        print(\"*****done\")\n",
    "        print(\"*********************\")\n",
    "    return x,x_jacobi_middle\n",
    "\n",
    "def gauss_seidel_solving(A,b,max_iter=1000,epsilon=1e-10,is_middle_print=False):\n",
    "    x0 = np.zeros_like(b)\n",
    "    x = np.zeros_like(b)\n",
    "    x_gauss_seidel_middle=[]\n",
    "    for i in range(max_iter):\n",
    "        # 迭代\n",
    "        for j in range(len(x)):\n",
    "            x[j] = (b[j] - np.dot(A[j,:j], x[:j]) - np.dot(A[j,j+1:], x[j+1:]))/A[j,j]\n",
    "        x_gauss_seidel_middle.append(list(x))\n",
    "        \n",
    "        # 判断是否收敛\n",
    "        if np.linalg.norm(x - x0) < epsilon:\n",
    "            break\n",
    "    return x,x_gauss_seidel_middle"
   ]
  },
  {
   "cell_type": "code",
   "execution_count": 42,
   "id": "c8851cc3",
   "metadata": {},
   "outputs": [
    {
     "name": "stdout",
     "output_type": "stream",
     "text": [
      "jacobi_middle is [[6, 6, 11], [16, -11, -13], [2, 3, 1], [2, 3, 1]]\n",
      "jacobi_middle_distance is [125, 588, 0, 0]\n",
      "gauss_middle_distance is [29, 20, 272, 4160, 38144, 275456, 1740800, 10108928, 55377920, 290717696, 1477443584, -1270874112, 1157627904, 1946157056, -1879048192, 1073741824, 0, 0]\n"
     ]
    }
   ],
   "source": [
    "import numpy as np\n",
    "import warnings\n",
    "warnings.filterwarnings(\"ignore\")\n",
    "\n",
    "A = np.array([[1, 2, -2], [1, 1, 1], [2, 2, 1]])\n",
    "b = np.array([6, 6, 11])\n",
    "\n",
    "max_iter = 18\n",
    "epsilon = 1e-7\n",
    "\n",
    "_,jacobi_middle = Jacobi_solving(A,b,max_iter=max_iter,epsilon=epsilon,is_middle_print=False)\n",
    "_,gauss_middle = gauss_seidel_solving(A,b,max_iter=max_iter,epsilon=epsilon,is_middle_print=False)\n",
    "\n",
    "x = np.linspace(1,len(gauss_middle),len(gauss_middle))\n",
    "jacobi_middle_distance = []\n",
    "gauss_middle_distance = []\n",
    "standard_answer = [2,3,1]\n",
    "\n",
    "\n",
    "print(\"jacobi_middle is\",jacobi_middle)\n",
    "\n",
    "\n",
    "for i in range(len(jacobi_middle)):\n",
    "    distance = 0\n",
    "    for j in range(len(jacobi_middle[0])):\n",
    "        distance+=(jacobi_middle[i][j]-standard_answer[j])**2\n",
    "    jacobi_middle_distance.append(distance)\n",
    "print(\"jacobi_middle_distance is\",jacobi_middle_distance)\n",
    "\n",
    "for i in range(len(gauss_middle)):\n",
    "    distance = 0\n",
    "    for j in range(len(gauss_middle[0])):\n",
    "        distance+=(gauss_middle[i][j]-standard_answer[j])**2\n",
    "    gauss_middle_distance.append(distance)\n",
    "print(\"gauss_middle_distance is\",gauss_middle_distance)\n",
    "\n",
    "# compensate the length\n",
    "while len(jacobi_middle_distance)!=len(gauss_middle_distance):\n",
    "    jacobi_middle_distance.append(0)\n"
   ]
  },
  {
   "cell_type": "code",
   "execution_count": 43,
   "id": "24011bb4",
   "metadata": {},
   "outputs": [
    {
     "data": {
      "image/png": "[encoded data removed]",
      "text/plain": [
       "<Figure size 640x480 with 2 Axes>"
      ]
     },
     "metadata": {},
     "output_type": "display_data"
    }
   ],
   "source": [
    "import matplotlib.pyplot as plt\n",
    "import numpy as np\n",
    "\n",
    "x = np.linspace(1,len(jacobi_middle_distance),len(jacobi_middle_distance))\n",
    "fig,ax1=plt.subplots()\n",
    "ax2 = ax1.twinx()\n",
    "\n",
    "\n",
    "ax1.plot(x,jacobi_middle_distance,'g-',label = 'jacobi')\n",
    "ax2.semilogy(x,gauss_middle_distance,'b--',label = 'gauss')\n",
    "\n",
    "ax1.set_xlabel(\"steps\")\n",
    "ax1.set_ylabel(\"jacobi euclidean distance\")\n",
    "ax2.set_ylabel(\"gauss euclidean distance\")\n",
    "plt.title(r\"itering error solving functions\")\n",
    "plt.legend(loc = 'upper right')\n",
    "plt.show()"
   ]
  },
  {
   "cell_type": "code",
   "execution_count": null,
   "id": "10624317",
   "metadata": {},
   "outputs": [],
   "source": []
  }
 ],
 "metadata": {
  "kernelspec": {
   "display_name": "Python 3 (ipykernel)",
   "language": "python",
   "name": "python3"
  },
  "language_info": {
   "codemirror_mode": {
    "name": "ipython",
    "version": 3
   },
   "file_extension": ".py",
   "mimetype": "text/x-python",
   "name": "python",
   "nbconvert_exporter": "python",
   "pygments_lexer": "ipython3",
   "version": "3.10.0"
  }
 },
 "nbformat": 4,
 "nbformat_minor": 5
}
