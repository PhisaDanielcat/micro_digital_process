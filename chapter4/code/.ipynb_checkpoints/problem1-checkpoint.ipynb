{
 "cells": [
  {
   "cell_type": "markdown",
   "id": "3557228a",
   "metadata": {},
   "source": [
    "# 习题一"
   ]
  },
  {
   "cell_type": "markdown",
   "id": "75838920",
   "metadata": {},
   "source": [
    "<center><font face=\"楷书\"，size=8>Author:孟群康</font></center>\n",
    "<center><font face=\"楷书\"，size=8>Student_number:2022202020095</font></center>"
   ]
  },
  {
   "cell_type": "markdown",
   "id": "00234901",
   "metadata": {},
   "source": [
    "## 一、题干"
   ]
  },
  {
   "cell_type": "markdown",
   "id": "408f481a",
   "metadata": {},
   "source": [
    "分别使用梯形公式，Simpson公式，复合梯形公式$(\\epsilon=1e-7)$，复合Simpson公式$(\\epsilon=1e-7)$四种方法计算积分$$\\int_0^\\pi sinxdx\\,.$$并比较误差"
   ]
  },
  {
   "cell_type": "markdown",
   "id": "7ce3434e",
   "metadata": {},
   "source": [
    "## 二、具体实现"
   ]
  },
  {
   "cell_type": "markdown",
   "id": "40f28252",
   "metadata": {},
   "source": [
    "2.1 梯形公式法"
   ]
  },
  {
   "cell_type": "code",
   "execution_count": null,
   "id": "a2bfac7a",
   "metadata": {},
   "outputs": [],
   "source": []
  }
 ],
 "metadata": {
  "kernelspec": {
   "display_name": "Python 3 (ipykernel)",
   "language": "python",
   "name": "python3"
  },
  "language_info": {
   "codemirror_mode": {
    "name": "ipython",
    "version": 3
   },
   "file_extension": ".py",
   "mimetype": "text/x-python",
   "name": "python",
   "nbconvert_exporter": "python",
   "pygments_lexer": "ipython3",
   "version": "3.10.0"
  }
 },
 "nbformat": 4,
 "nbformat_minor": 5
}
