{
 "cells": [
  {
   "cell_type": "markdown",
   "id": "3557228a",
   "metadata": {},
   "source": [
    "# 习题一"
   ]
  },
  {
   "cell_type": "markdown",
   "id": "75838920",
   "metadata": {},
   "source": [
    "<center><font face=\"楷书\"，size=8>Author:孟群康</font></center>\n",
    "<center><font face=\"楷书\"，size=8>Student_number:2022202020095</font></center>"
   ]
  },
  {
   "cell_type": "markdown",
   "id": "00234901",
   "metadata": {},
   "source": [
    "## 一、题干"
   ]
  },
  {
   "cell_type": "markdown",
   "id": "408f481a",
   "metadata": {},
   "source": [
    "分别使用梯形公式，Simpson公式，复合梯形公式$(\\epsilon=1e-7)$，复合Simpson公式$(\\epsilon=1e-7)$四种方法计算积分$$\\int_0^\\pi sinxdx\\,.$$并比较误差"
   ]
  },
  {
   "attachments": {},
   "cell_type": "markdown",
   "id": "ca1df152",
   "metadata": {},
   "source": [
    "首先根据定积分公式可以算出，本题的解析精确解为$-cos(\\pi)-(-cos(0))=2$，用于后续的误差比较"
   ]
  },
  {
   "cell_type": "markdown",
   "id": "7ce3434e",
   "metadata": {},
   "source": [
    "## 二、具体实现"
   ]
  },
  {
   "attachments": {},
   "cell_type": "markdown",
   "id": "40f28252",
   "metadata": {},
   "source": [
    "### 2.1 一般梯形公式法（包括梯形法和复合梯形法）"
   ]
  },
  {
   "attachments": {},
   "cell_type": "markdown",
   "id": "9c86acd3",
   "metadata": {},
   "source": [
    "梯形公式法需要将积分空间划分为$n$个子区间，每个子区间的长度为$h = \\dfrac{\\pi}{n}$，则对于第$i$个子区间$[x_{i-1},x_{i}]$，其中$x_i=i\\times h$,可以用梯形的面积来近似表示原函数在该积分区间内的积分值，即："
   ]
  },
  {
   "attachments": {},
   "cell_type": "markdown",
   "id": "afc064ab",
   "metadata": {},
   "source": [
    "$$\n",
    "\\int_{x_{i-1}}^{x_i} \\sin(x) dx \\approx \\dfrac{\\sin(x_{i-1}) + \\sin(x_i)}{2} \\cdot h\n",
    "$$"
   ]
  },
  {
   "attachments": {},
   "cell_type": "markdown",
   "id": "e4dd0d58",
   "metadata": {},
   "source": [
    "因此，整个积分的近似值可以表示为："
   ]
  },
  {
   "attachments": {},
   "cell_type": "markdown",
   "metadata": {},
   "source": [
    "$$\n",
    "\\int_0^\\pi \\sin(x) dx \\approx \\sum_{i=1}^n \\dfrac{\\sin(x_{i-1}) + \\sin(x_i)}{2} \\cdot h\n",
    "$$"
   ]
  },
  {
   "attachments": {},
   "cell_type": "markdown",
   "id": "15848c01",
   "metadata": {},
   "source": [
    "使用python对上述算法进行实现，过程比较简单："
   ]
  },
  {
   "cell_type": "code",
   "execution_count": 1,
   "id": "99ba60b7",
   "metadata": {},
   "outputs": [],
   "source": [
    "import math\n",
    "\n",
    "# Define a function using the trapezoidal rule for approximating sin(x)\n",
    "def trapezoidal_rule_sin(n):\n",
    "    # Calculate the width of each trapezoid using the number of intervals specified by n.\n",
    "    h = math.pi / n \n",
    "    # Add the values of sin(0) and sin(pi) together to account for the endpoints of the interval.\n",
    "    approx = (math.sin(0) + math.sin(math.pi)) / 2  \n",
    "    # For the remaining intervals, calculate the value of sin at the middle point.\n",
    "    # Add these up to the approximation we've made so far.\n",
    "    for i in range(1, n):\n",
    "        x = i * h\n",
    "        approx += math.sin(x)\n",
    "    # Multiply the resulting sum by the width of each trapezoid and return it.\n",
    "    # This gives us our estimated area under the curve.\n",
    "    approx *= h\n",
    "    return approx\n",
    "\n"
   ]
  },
  {
   "attachments": {},
   "cell_type": "markdown",
   "id": "034d41d6",
   "metadata": {},
   "source": [
    "可以通过调用 trapezoidal_rule_sin 函数并传入所需的步长 $n$ 值来获得近似值。步长为2时，为普通的梯形法，则结果如下："
   ]
  },
  {
   "cell_type": "code",
   "execution_count": 2,
   "id": "a1e7463a",
   "metadata": {},
   "outputs": [
    {
     "name": "stdout",
     "output_type": "stream",
     "text": [
      "counting result is 1.5707963267948966\n",
      "error is -0.42920367320510344\n",
      "relative_error is 0.21460183660255172\n"
     ]
    }
   ],
   "source": [
    "result = trapezoidal_rule_sin(2)\n",
    "error = result-2\n",
    "relative_error = error/2 if error/2>0 else -error/2\n",
    "print(\"counting result is\",result) \n",
    "print(\"error is\",error)\n",
    "print(\"relative_error is\",relative_error)"
   ]
  },
  {
   "attachments": {},
   "cell_type": "markdown",
   "id": "82e19ae2",
   "metadata": {},
   "source": [
    "步长为 $\\dfrac{1}{\\epsilon}$ 时，为复合梯形法："
   ]
  },
  {
   "cell_type": "code",
   "execution_count": 3,
   "id": "2484f411",
   "metadata": {},
   "outputs": [
    {
     "name": "stdout",
     "output_type": "stream",
     "text": [
      "counting result is 1.9999999999998086\n",
      "error is -1.91402449445377e-13\n",
      "relative_error is 9.57012247226885e-14\n"
     ]
    }
   ],
   "source": [
    "result = trapezoidal_rule_sin(int(1e7))\n",
    "error = result-2\n",
    "relative_error = error/2 if error/2>0 else -error/2\n",
    "print(\"counting result is\",result) \n",
    "print(\"error is\",error)\n",
    "print(\"relative_error is\",relative_error)"
   ]
  },
  {
   "cell_type": "markdown",
   "id": "f82798a8",
   "metadata": {},
   "source": [
    "误差跟步长相关，因此可以画出步长和误差之间的关系图"
   ]
  },
  {
   "cell_type": "code",
   "execution_count": 4,
   "id": "8f4763ae",
   "metadata": {},
   "outputs": [
    {
     "data": {
      "image/png": "[encoded data removed]",
      "text/plain": [
       "<Figure size 640x480 with 1 Axes>"
      ]
     },
     "metadata": {},
     "output_type": "display_data"
    }
   ],
   "source": [
    "import matplotlib.pyplot as plt\n",
    "import numpy as np\n",
    "\n",
    "n=np.linspace(2,100,100)\n",
    "error = []\n",
    "for item in n:\n",
    "    error.append(trapezoidal_rule_sin(int(item))-2)\n",
    "\n",
    "plt.semilogx(n,error,linewidth =1.5, color='green', linestyle='dotted',marker='.')\n",
    "\n",
    "plt.xlabel(\"steps $n$\")\n",
    "plt.ylabel(\"error\")\n",
    "plt.title(r\"error curve trapezoidal method of $\\int_0^\\pi sinxdx\\,.$\")\n",
    "plt.show()"
   ]
  },
  {
   "attachments": {},
   "cell_type": "markdown",
   "id": "811ace40",
   "metadata": {},
   "source": [
    "### 2.2 Simpson公式法"
   ]
  },
  {
   "attachments": {},
   "cell_type": "markdown",
   "id": "86d3b4f0",
   "metadata": {},
   "source": [
    "Simpson公式法与梯形法最大的区别是拟合函数的选取不同，梯形法可以视为Simpson公式拟合的一次方法，而Simpson公式利用每个小区间的中心点和前后两个区间中心点的值做二次函数逼近，然后再计算二次函数的面积作为积分近似值。用公式表达如下：$$\\int_{x_{i-1}}^{x_i} f(x)dx \\approx \\dfrac{h}{3}(f(x_{i-1})+4f(x_i)+f(x_{i+1}))$$其中，$x_i$是第$i$个小块的中心点，$f(x)$是在$x$处的函数值。对于边缘的两个小块，只能用梯形公式来进行数值积分的近似计算。"
   ]
  },
  {
   "cell_type": "code",
   "execution_count": 5,
   "id": "20ad4584",
   "metadata": {},
   "outputs": [],
   "source": [
    "import math\n",
    "\n",
    "def simpson_rule_sin(n):\n",
    "    h = math.pi / n\n",
    "    approx = math.sin(0) + math.sin(math.pi)  # add boundaries\n",
    "    for i in range(1, n):  # iterate over inner segments\n",
    "        x = i * h\n",
    "        if i % 2 == 0:\n",
    "            approx += 2*math.sin(x)\n",
    "        else:\n",
    "            approx += 4*math.sin(x)\n",
    "    approx *= h / 3\n",
    "    return approx\n"
   ]
  },
  {
   "attachments": {},
   "cell_type": "markdown",
   "id": "04f37d4a",
   "metadata": {},
   "source": [
    "可以通过调用 simpson_rule_sin 函数并传入所需的步长 $n$ 值来获得近似值。步长为1时，为普通的simpson法，则结果如下："
   ]
  },
  {
   "cell_type": "code",
   "execution_count": 6,
   "id": "717c8928",
   "metadata": {},
   "outputs": [
    {
     "name": "stdout",
     "output_type": "stream",
     "text": [
      "counting result is 2.0943951023931953\n",
      "error is 0.09439510239319526\n",
      "relative_error is 0.04719755119659763\n"
     ]
    }
   ],
   "source": [
    "result = simpson_rule_sin(2)\n",
    "error = result-2\n",
    "relative_error = error/2 if error/2>0 else -error/2\n",
    "print(\"counting result is\",result) \n",
    "print(\"error is\",error)\n",
    "print(\"relative_error is\",relative_error)"
   ]
  },
  {
   "attachments": {},
   "cell_type": "markdown",
   "id": "0a97669f",
   "metadata": {},
   "source": [
    "步长为 $\\dfrac{1}{\\epsilon}$ 时，为复合simpson法，则结果如下："
   ]
  },
  {
   "cell_type": "code",
   "execution_count": 7,
   "id": "0dea0719",
   "metadata": {},
   "outputs": [
    {
     "name": "stdout",
     "output_type": "stream",
     "text": [
      "counting result is 2.0000000000000164\n",
      "error is 1.6431300764452317e-14\n",
      "relative_error is 8.215650382226158e-15\n"
     ]
    }
   ],
   "source": [
    "result = simpson_rule_sin(int(1e7))\n",
    "error = result-2\n",
    "relative_error = error/2 if error/2>0 else -error/2\n",
    "print(\"counting result is\",result) \n",
    "print(\"error is\",error)\n",
    "print(\"relative_error is\",relative_error)"
   ]
  },
  {
   "attachments": {},
   "cell_type": "markdown",
   "id": "94fa8da9",
   "metadata": {},
   "source": [
    "误差跟步长相关，因此可以画出步长和误差之间的关系图"
   ]
  },
  {
   "cell_type": "code",
   "execution_count": 8,
   "id": "7d2bbb64",
   "metadata": {},
   "outputs": [
    {
     "data": {
      "image/png": "[encoded data removed]",
      "text/plain": [
       "<Figure size 640x480 with 1 Axes>"
      ]
     },
     "metadata": {},
     "output_type": "display_data"
    }
   ],
   "source": [
    "import matplotlib.pyplot as plt\n",
    "import numpy as np\n",
    "\n",
    "n=np.linspace(2,100,100)\n",
    "error = []\n",
    "for item in n:\n",
    "    error.append(simpson_rule_sin(int(item))-2)\n",
    "\n",
    "plt.semilogx(n,error,linewidth =1.5, color='green', linestyle='dotted',marker='.')\n",
    "\n",
    "plt.xlabel(\"steps $n$\")\n",
    "plt.ylabel(\"error\")\n",
    "plt.title(r\"error curve trapezoidal method of $\\int_0^\\pi sinxdx\\,.$\")\n",
    "plt.show()"
   ]
  }
 ],
 "metadata": {
  "kernelspec": {
   "display_name": "Python 3 (ipykernel)",
   "language": "python",
   "name": "python3"
  },
  "language_info": {
   "codemirror_mode": {
    "name": "ipython",
    "version": 3
   },
   "file_extension": ".py",
   "mimetype": "text/x-python",
   "name": "python",
   "nbconvert_exporter": "python",
   "pygments_lexer": "ipython3",
   "version": "3.10.0"
  }
 },
 "nbformat": 4,
 "nbformat_minor": 5
}
